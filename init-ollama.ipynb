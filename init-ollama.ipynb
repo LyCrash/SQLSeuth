{
 "cells": [
  {
   "cell_type": "code",
   "execution_count": 5,
   "metadata": {},
   "outputs": [
    {
     "name": "stdout",
     "output_type": "stream",
     "text": [
      "Collecting langchain_community\n",
      "  Downloading langchain_community-0.2.0-py3-none-any.whl.metadata (8.8 kB)\n",
      "Requirement already satisfied: PyYAML>=5.3 in c:\\esi\\s2\\bda\\tp\\venv\\lib\\site-packages (from langchain_community) (6.0.1)\n",
      "Requirement already satisfied: SQLAlchemy<3,>=1.4 in c:\\esi\\s2\\bda\\tp\\venv\\lib\\site-packages (from langchain_community) (2.0.30)\n",
      "Requirement already satisfied: aiohttp<4.0.0,>=3.8.3 in c:\\esi\\s2\\bda\\tp\\venv\\lib\\site-packages (from langchain_community) (3.9.5)\n",
      "Requirement already satisfied: dataclasses-json<0.7,>=0.5.7 in c:\\esi\\s2\\bda\\tp\\venv\\lib\\site-packages (from langchain_community) (0.6.6)\n",
      "Requirement already satisfied: langchain<0.3.0,>=0.2.0 in c:\\esi\\s2\\bda\\tp\\venv\\lib\\site-packages (from langchain_community) (0.2.0)\n",
      "Requirement already satisfied: langchain-core<0.3.0,>=0.2.0 in c:\\esi\\s2\\bda\\tp\\venv\\lib\\site-packages (from langchain_community) (0.2.0)\n",
      "Requirement already satisfied: langsmith<0.2.0,>=0.1.0 in c:\\esi\\s2\\bda\\tp\\venv\\lib\\site-packages (from langchain_community) (0.1.59)\n",
      "Requirement already satisfied: numpy<2,>=1 in c:\\esi\\s2\\bda\\tp\\venv\\lib\\site-packages (from langchain_community) (1.26.4)\n",
      "Requirement already satisfied: requests<3,>=2 in c:\\esi\\s2\\bda\\tp\\venv\\lib\\site-packages (from langchain_community) (2.31.0)\n",
      "Requirement already satisfied: tenacity<9.0.0,>=8.1.0 in c:\\esi\\s2\\bda\\tp\\venv\\lib\\site-packages (from langchain_community) (8.3.0)\n",
      "Requirement already satisfied: aiosignal>=1.1.2 in c:\\esi\\s2\\bda\\tp\\venv\\lib\\site-packages (from aiohttp<4.0.0,>=3.8.3->langchain_community) (1.3.1)\n",
      "Requirement already satisfied: attrs>=17.3.0 in c:\\esi\\s2\\bda\\tp\\venv\\lib\\site-packages (from aiohttp<4.0.0,>=3.8.3->langchain_community) (23.2.0)\n",
      "Requirement already satisfied: frozenlist>=1.1.1 in c:\\esi\\s2\\bda\\tp\\venv\\lib\\site-packages (from aiohttp<4.0.0,>=3.8.3->langchain_community) (1.4.1)\n",
      "Requirement already satisfied: multidict<7.0,>=4.5 in c:\\esi\\s2\\bda\\tp\\venv\\lib\\site-packages (from aiohttp<4.0.0,>=3.8.3->langchain_community) (6.0.5)\n",
      "Requirement already satisfied: yarl<2.0,>=1.0 in c:\\esi\\s2\\bda\\tp\\venv\\lib\\site-packages (from aiohttp<4.0.0,>=3.8.3->langchain_community) (1.9.4)\n",
      "Requirement already satisfied: marshmallow<4.0.0,>=3.18.0 in c:\\esi\\s2\\bda\\tp\\venv\\lib\\site-packages (from dataclasses-json<0.7,>=0.5.7->langchain_community) (3.21.2)\n",
      "Requirement already satisfied: typing-inspect<1,>=0.4.0 in c:\\esi\\s2\\bda\\tp\\venv\\lib\\site-packages (from dataclasses-json<0.7,>=0.5.7->langchain_community) (0.9.0)\n",
      "Requirement already satisfied: langchain-text-splitters<0.3.0,>=0.2.0 in c:\\esi\\s2\\bda\\tp\\venv\\lib\\site-packages (from langchain<0.3.0,>=0.2.0->langchain_community) (0.2.0)\n",
      "Requirement already satisfied: pydantic<3,>=1 in c:\\esi\\s2\\bda\\tp\\venv\\lib\\site-packages (from langchain<0.3.0,>=0.2.0->langchain_community) (2.7.1)\n",
      "Requirement already satisfied: jsonpatch<2.0,>=1.33 in c:\\esi\\s2\\bda\\tp\\venv\\lib\\site-packages (from langchain-core<0.3.0,>=0.2.0->langchain_community) (1.33)\n",
      "Requirement already satisfied: packaging<24.0,>=23.2 in c:\\esi\\s2\\bda\\tp\\venv\\lib\\site-packages (from langchain-core<0.3.0,>=0.2.0->langchain_community) (23.2)\n",
      "Requirement already satisfied: orjson<4.0.0,>=3.9.14 in c:\\esi\\s2\\bda\\tp\\venv\\lib\\site-packages (from langsmith<0.2.0,>=0.1.0->langchain_community) (3.10.3)\n",
      "Requirement already satisfied: charset-normalizer<4,>=2 in c:\\esi\\s2\\bda\\tp\\venv\\lib\\site-packages (from requests<3,>=2->langchain_community) (3.3.2)\n",
      "Requirement already satisfied: idna<4,>=2.5 in c:\\esi\\s2\\bda\\tp\\venv\\lib\\site-packages (from requests<3,>=2->langchain_community) (3.7)\n",
      "Requirement already satisfied: urllib3<3,>=1.21.1 in c:\\esi\\s2\\bda\\tp\\venv\\lib\\site-packages (from requests<3,>=2->langchain_community) (2.2.1)\n",
      "Requirement already satisfied: certifi>=2017.4.17 in c:\\esi\\s2\\bda\\tp\\venv\\lib\\site-packages (from requests<3,>=2->langchain_community) (2024.2.2)\n",
      "Requirement already satisfied: typing-extensions>=4.6.0 in c:\\esi\\s2\\bda\\tp\\venv\\lib\\site-packages (from SQLAlchemy<3,>=1.4->langchain_community) (4.11.0)\n",
      "Requirement already satisfied: greenlet!=0.4.17 in c:\\esi\\s2\\bda\\tp\\venv\\lib\\site-packages (from SQLAlchemy<3,>=1.4->langchain_community) (3.0.3)\n",
      "Requirement already satisfied: jsonpointer>=1.9 in c:\\esi\\s2\\bda\\tp\\venv\\lib\\site-packages (from jsonpatch<2.0,>=1.33->langchain-core<0.3.0,>=0.2.0->langchain_community) (2.4)\n",
      "Requirement already satisfied: annotated-types>=0.4.0 in c:\\esi\\s2\\bda\\tp\\venv\\lib\\site-packages (from pydantic<3,>=1->langchain<0.3.0,>=0.2.0->langchain_community) (0.6.0)\n",
      "Requirement already satisfied: pydantic-core==2.18.2 in c:\\esi\\s2\\bda\\tp\\venv\\lib\\site-packages (from pydantic<3,>=1->langchain<0.3.0,>=0.2.0->langchain_community) (2.18.2)\n",
      "Requirement already satisfied: mypy-extensions>=0.3.0 in c:\\esi\\s2\\bda\\tp\\venv\\lib\\site-packages (from typing-inspect<1,>=0.4.0->dataclasses-json<0.7,>=0.5.7->langchain_community) (1.0.0)\n",
      "Downloading langchain_community-0.2.0-py3-none-any.whl (2.1 MB)\n",
      "   ---------------------------------------- 0.0/2.1 MB ? eta -:--:--\n",
      "   ---------------------------------------- 0.0/2.1 MB ? eta -:--:--\n",
      "    --------------------------------------- 0.0/2.1 MB 487.6 kB/s eta 0:00:05\n",
      "   -- ------------------------------------- 0.1/2.1 MB 1.0 MB/s eta 0:00:02\n",
      "   --- ------------------------------------ 0.2/2.1 MB 1.1 MB/s eta 0:00:02\n",
      "   ----- ---------------------------------- 0.3/2.1 MB 1.4 MB/s eta 0:00:02\n",
      "   ------ --------------------------------- 0.3/2.1 MB 1.4 MB/s eta 0:00:02\n",
      "   -------- ------------------------------- 0.4/2.1 MB 1.5 MB/s eta 0:00:02\n",
      "   --------- ------------------------------ 0.5/2.1 MB 1.5 MB/s eta 0:00:02\n",
      "   ---------- ----------------------------- 0.6/2.1 MB 1.6 MB/s eta 0:00:01\n",
      "   ------------ --------------------------- 0.7/2.1 MB 1.6 MB/s eta 0:00:01\n",
      "   ------------- -------------------------- 0.7/2.1 MB 1.6 MB/s eta 0:00:01\n",
      "   --------------- ------------------------ 0.8/2.1 MB 1.6 MB/s eta 0:00:01\n",
      "   ---------------- ----------------------- 0.9/2.1 MB 1.7 MB/s eta 0:00:01\n",
      "   ------------------ --------------------- 1.0/2.1 MB 1.7 MB/s eta 0:00:01\n",
      "   ------------------- -------------------- 1.0/2.1 MB 1.7 MB/s eta 0:00:01\n",
      "   --------------------- ------------------ 1.1/2.1 MB 1.7 MB/s eta 0:00:01\n",
      "   ---------------------- ----------------- 1.2/2.1 MB 1.7 MB/s eta 0:00:01\n",
      "   ------------------------ --------------- 1.3/2.1 MB 1.7 MB/s eta 0:00:01\n",
      "   -------------------------- ------------- 1.4/2.1 MB 1.7 MB/s eta 0:00:01\n",
      "   --------------------------- ------------ 1.5/2.1 MB 1.7 MB/s eta 0:00:01\n",
      "   ----------------------------- ---------- 1.5/2.1 MB 1.8 MB/s eta 0:00:01\n",
      "   ------------------------------- -------- 1.6/2.1 MB 1.7 MB/s eta 0:00:01\n",
      "   -------------------------------- ------- 1.7/2.1 MB 1.8 MB/s eta 0:00:01\n",
      "   ---------------------------------- ----- 1.8/2.1 MB 1.8 MB/s eta 0:00:01\n",
      "   ------------------------------------ --- 1.9/2.1 MB 1.8 MB/s eta 0:00:01\n",
      "   -------------------------------------- - 2.0/2.1 MB 1.8 MB/s eta 0:00:01\n",
      "   ---------------------------------------  2.1/2.1 MB 1.8 MB/s eta 0:00:01\n",
      "   ---------------------------------------  2.1/2.1 MB 1.8 MB/s eta 0:00:01\n",
      "   ---------------------------------------- 2.1/2.1 MB 1.7 MB/s eta 0:00:00\n",
      "Installing collected packages: langchain_community\n",
      "Successfully installed langchain_community-0.2.0\n",
      "Note: you may need to restart the kernel to use updated packages.\n"
     ]
    }
   ],
   "source": [
    "%pip install langchain_community"
   ]
  },
  {
   "cell_type": "code",
   "execution_count": 6,
   "metadata": {},
   "outputs": [],
   "source": [
    "from langchain_community.llms import Ollama\n",
    "llm = Ollama(model=\"llama3\")"
   ]
  },
  {
   "cell_type": "code",
   "execution_count": 7,
   "metadata": {},
   "outputs": [
    {
     "data": {
      "text/plain": [
       "\"Langsmith, a language model, can assist with testing in several ways:\\n\\n1. **Automated testing**: Langsmith can generate test cases and expected outputs for specific scenarios, reducing the need for manual testing.\\n2. **Grammar and syntax validation**: Langsmith can check the grammar, syntax, and structure of code snippets or text inputs, helping to identify potential errors before they reach production.\\n3. **Code review**: Langsmith can analyze code and suggest improvements, such as refactoring, naming conventions, and coding best practices, based on its understanding of programming languages and software development principles.\\n4. **Error detection**: Langsmith can help detect errors in code or text by analyzing the syntax, semantics, and contextual relationships between words and phrases.\\n5. **Test data generation**: Langsmith can generate test data, such as input values, scenarios, and expected outputs, to support testing efforts.\\n6. **Code comprehension**: Langsmith can provide insights into code behavior, helping developers understand how their code interacts with other parts of the system or library.\\n7. **Documentation generation**: Langsmith can assist in generating documentation for APIs, libraries, or software systems by providing natural language summaries and examples.\\n8. **Testing automation tools integration**: Langsmith can integrate with testing automation frameworks like Pytest, Unittest, or JUnit to generate test cases, automate testing, and provide detailed reports on test results.\\n\\nSome potential use cases for Langsmith in testing include:\\n\\n* Integrating Langsmith with a CI/CD pipeline to automatically run tests and generate test data.\\n* Using Langsmith as a tool for writing unit tests or integration tests.\\n* Utilizing Langsmith's grammar and syntax validation capabilities to catch errors early on in the development process.\\n* Employing Langsmith's code review features to analyze code quality and suggest improvements.\\n\\nKeep in mind that while Langsmith can be a valuable tool in testing, it should not replace human judgment and expertise. Instead, Langsmith can augment and support the testing process by providing additional insights and assistance.\""
      ]
     },
     "execution_count": 7,
     "metadata": {},
     "output_type": "execute_result"
    }
   ],
   "source": [
    "llm.invoke(\"how can langsmith help with testing?\")"
   ]
  }
 ],
 "metadata": {
  "kernelspec": {
   "display_name": "venv",
   "language": "python",
   "name": "python3"
  },
  "language_info": {
   "codemirror_mode": {
    "name": "ipython",
    "version": 3
   },
   "file_extension": ".py",
   "mimetype": "text/x-python",
   "name": "python",
   "nbconvert_exporter": "python",
   "pygments_lexer": "ipython3",
   "version": "3.12.3"
  }
 },
 "nbformat": 4,
 "nbformat_minor": 2
}
